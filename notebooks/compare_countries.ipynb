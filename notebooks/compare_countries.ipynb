{
 "cells": [
  {
   "cell_type": "code",
   "execution_count": 38,
   "id": "7973204d",
   "metadata": {},
   "outputs": [],
   "source": [
    "import pandas as pd\n",
    "import numpy as np\n",
    "import os\n",
    "import sys\n",
    "import matplotlib.pyplot as plt\n",
    "import seaborn as sns\n",
    "from scipy.stats import zscore, f_oneway"
   ]
  },
  {
   "cell_type": "code",
   "execution_count": 4,
   "id": "3c52dc38",
   "metadata": {},
   "outputs": [],
   "source": [
    "benin_clean = pd.read_csv('../data/benin_clean.csv')\n",
    "togo_clean = pd.read_csv('../data/togo_clean.csv')\n",
    "ser_clean = pd.read_csv('../data/sierraleone_clean.csv')"
   ]
  },
  {
   "cell_type": "code",
   "execution_count": 9,
   "id": "901e37a9",
   "metadata": {},
   "outputs": [],
   "source": [
    "benin = benin_clean[['GHI', 'DNI', 'DHI' ]]\n",
    "togo = togo_clean[['GHI', 'DNI', 'DHI' ]]\n",
    "ser = ser_clean[['GHI', 'DNI', 'DHI' ]]"
   ]
  },
  {
   "cell_type": "code",
   "execution_count": 11,
   "id": "a32292b3",
   "metadata": {},
   "outputs": [
    {
     "data": {
      "text/html": [
       "<div>\n",
       "<style scoped>\n",
       "    .dataframe tbody tr th:only-of-type {\n",
       "        vertical-align: middle;\n",
       "    }\n",
       "\n",
       "    .dataframe tbody tr th {\n",
       "        vertical-align: top;\n",
       "    }\n",
       "\n",
       "    .dataframe thead th {\n",
       "        text-align: right;\n",
       "    }\n",
       "</style>\n",
       "<table border=\"1\" class=\"dataframe\">\n",
       "  <thead>\n",
       "    <tr style=\"text-align: right;\">\n",
       "      <th></th>\n",
       "      <th>GHI</th>\n",
       "      <th>DNI</th>\n",
       "      <th>DHI</th>\n",
       "    </tr>\n",
       "  </thead>\n",
       "  <tbody>\n",
       "    <tr>\n",
       "      <th>0</th>\n",
       "      <td>0.0</td>\n",
       "      <td>0.0</td>\n",
       "      <td>0.0</td>\n",
       "    </tr>\n",
       "    <tr>\n",
       "      <th>1</th>\n",
       "      <td>0.0</td>\n",
       "      <td>0.0</td>\n",
       "      <td>0.0</td>\n",
       "    </tr>\n",
       "    <tr>\n",
       "      <th>2</th>\n",
       "      <td>0.0</td>\n",
       "      <td>0.0</td>\n",
       "      <td>0.0</td>\n",
       "    </tr>\n",
       "    <tr>\n",
       "      <th>3</th>\n",
       "      <td>0.0</td>\n",
       "      <td>0.0</td>\n",
       "      <td>0.0</td>\n",
       "    </tr>\n",
       "    <tr>\n",
       "      <th>4</th>\n",
       "      <td>0.0</td>\n",
       "      <td>0.0</td>\n",
       "      <td>0.0</td>\n",
       "    </tr>\n",
       "    <tr>\n",
       "      <th>...</th>\n",
       "      <td>...</td>\n",
       "      <td>...</td>\n",
       "      <td>...</td>\n",
       "    </tr>\n",
       "    <tr>\n",
       "      <th>504372</th>\n",
       "      <td>0.0</td>\n",
       "      <td>0.0</td>\n",
       "      <td>0.0</td>\n",
       "    </tr>\n",
       "    <tr>\n",
       "      <th>504373</th>\n",
       "      <td>0.0</td>\n",
       "      <td>0.0</td>\n",
       "      <td>0.0</td>\n",
       "    </tr>\n",
       "    <tr>\n",
       "      <th>504374</th>\n",
       "      <td>0.0</td>\n",
       "      <td>0.0</td>\n",
       "      <td>0.0</td>\n",
       "    </tr>\n",
       "    <tr>\n",
       "      <th>504375</th>\n",
       "      <td>0.0</td>\n",
       "      <td>0.0</td>\n",
       "      <td>0.0</td>\n",
       "    </tr>\n",
       "    <tr>\n",
       "      <th>504376</th>\n",
       "      <td>0.0</td>\n",
       "      <td>0.0</td>\n",
       "      <td>0.0</td>\n",
       "    </tr>\n",
       "  </tbody>\n",
       "</table>\n",
       "<p>504377 rows × 3 columns</p>\n",
       "</div>"
      ],
      "text/plain": [
       "        GHI  DNI  DHI\n",
       "0       0.0  0.0  0.0\n",
       "1       0.0  0.0  0.0\n",
       "2       0.0  0.0  0.0\n",
       "3       0.0  0.0  0.0\n",
       "4       0.0  0.0  0.0\n",
       "...     ...  ...  ...\n",
       "504372  0.0  0.0  0.0\n",
       "504373  0.0  0.0  0.0\n",
       "504374  0.0  0.0  0.0\n",
       "504375  0.0  0.0  0.0\n",
       "504376  0.0  0.0  0.0\n",
       "\n",
       "[504377 rows x 3 columns]"
      ]
     },
     "execution_count": 11,
     "metadata": {},
     "output_type": "execute_result"
    }
   ],
   "source": [
    "ser"
   ]
  },
  {
   "cell_type": "code",
   "execution_count": 12,
   "id": "0dbe9599",
   "metadata": {},
   "outputs": [
    {
     "name": "stderr",
     "output_type": "stream",
     "text": [
      "/tmp/ipykernel_9582/1307367779.py:2: SettingWithCopyWarning: \n",
      "A value is trying to be set on a copy of a slice from a DataFrame.\n",
      "Try using .loc[row_indexer,col_indexer] = value instead\n",
      "\n",
      "See the caveats in the documentation: https://pandas.pydata.org/pandas-docs/stable/user_guide/indexing.html#returning-a-view-versus-a-copy\n",
      "  benin['Country'] = 'Benin'\n",
      "/tmp/ipykernel_9582/1307367779.py:3: SettingWithCopyWarning: \n",
      "A value is trying to be set on a copy of a slice from a DataFrame.\n",
      "Try using .loc[row_indexer,col_indexer] = value instead\n",
      "\n",
      "See the caveats in the documentation: https://pandas.pydata.org/pandas-docs/stable/user_guide/indexing.html#returning-a-view-versus-a-copy\n",
      "  ser['Country'] = 'Sierra Leone'\n",
      "/tmp/ipykernel_9582/1307367779.py:4: SettingWithCopyWarning: \n",
      "A value is trying to be set on a copy of a slice from a DataFrame.\n",
      "Try using .loc[row_indexer,col_indexer] = value instead\n",
      "\n",
      "See the caveats in the documentation: https://pandas.pydata.org/pandas-docs/stable/user_guide/indexing.html#returning-a-view-versus-a-copy\n",
      "  togo['Country'] = 'Togo'\n"
     ]
    }
   ],
   "source": [
    "# Add country column\n",
    "benin['Country'] = 'Benin'\n",
    "ser['Country'] = 'Sierra Leone'\n",
    "togo['Country'] = 'Togo'"
   ]
  },
  {
   "cell_type": "code",
   "execution_count": 14,
   "id": "5b4b6342",
   "metadata": {},
   "outputs": [],
   "source": [
    "df = pd.concat([benin, togo, ser], ignore_index=True)"
   ]
  },
  {
   "cell_type": "code",
   "execution_count": 15,
   "id": "c6437a6a",
   "metadata": {},
   "outputs": [
    {
     "data": {
      "text/html": [
       "<div>\n",
       "<style scoped>\n",
       "    .dataframe tbody tr th:only-of-type {\n",
       "        vertical-align: middle;\n",
       "    }\n",
       "\n",
       "    .dataframe tbody tr th {\n",
       "        vertical-align: top;\n",
       "    }\n",
       "\n",
       "    .dataframe thead th {\n",
       "        text-align: right;\n",
       "    }\n",
       "</style>\n",
       "<table border=\"1\" class=\"dataframe\">\n",
       "  <thead>\n",
       "    <tr style=\"text-align: right;\">\n",
       "      <th></th>\n",
       "      <th>GHI</th>\n",
       "      <th>DNI</th>\n",
       "      <th>DHI</th>\n",
       "      <th>Country</th>\n",
       "    </tr>\n",
       "  </thead>\n",
       "  <tbody>\n",
       "    <tr>\n",
       "      <th>0</th>\n",
       "      <td>0.0</td>\n",
       "      <td>0.0</td>\n",
       "      <td>0.0</td>\n",
       "      <td>Benin</td>\n",
       "    </tr>\n",
       "    <tr>\n",
       "      <th>1</th>\n",
       "      <td>0.0</td>\n",
       "      <td>0.0</td>\n",
       "      <td>0.0</td>\n",
       "      <td>Benin</td>\n",
       "    </tr>\n",
       "    <tr>\n",
       "      <th>2</th>\n",
       "      <td>0.0</td>\n",
       "      <td>0.0</td>\n",
       "      <td>0.0</td>\n",
       "      <td>Benin</td>\n",
       "    </tr>\n",
       "    <tr>\n",
       "      <th>3</th>\n",
       "      <td>0.0</td>\n",
       "      <td>0.0</td>\n",
       "      <td>0.0</td>\n",
       "      <td>Benin</td>\n",
       "    </tr>\n",
       "    <tr>\n",
       "      <th>4</th>\n",
       "      <td>0.0</td>\n",
       "      <td>0.0</td>\n",
       "      <td>0.0</td>\n",
       "      <td>Benin</td>\n",
       "    </tr>\n",
       "    <tr>\n",
       "      <th>...</th>\n",
       "      <td>...</td>\n",
       "      <td>...</td>\n",
       "      <td>...</td>\n",
       "      <td>...</td>\n",
       "    </tr>\n",
       "    <tr>\n",
       "      <th>1538422</th>\n",
       "      <td>0.0</td>\n",
       "      <td>0.0</td>\n",
       "      <td>0.0</td>\n",
       "      <td>Sierra Leone</td>\n",
       "    </tr>\n",
       "    <tr>\n",
       "      <th>1538423</th>\n",
       "      <td>0.0</td>\n",
       "      <td>0.0</td>\n",
       "      <td>0.0</td>\n",
       "      <td>Sierra Leone</td>\n",
       "    </tr>\n",
       "    <tr>\n",
       "      <th>1538424</th>\n",
       "      <td>0.0</td>\n",
       "      <td>0.0</td>\n",
       "      <td>0.0</td>\n",
       "      <td>Sierra Leone</td>\n",
       "    </tr>\n",
       "    <tr>\n",
       "      <th>1538425</th>\n",
       "      <td>0.0</td>\n",
       "      <td>0.0</td>\n",
       "      <td>0.0</td>\n",
       "      <td>Sierra Leone</td>\n",
       "    </tr>\n",
       "    <tr>\n",
       "      <th>1538426</th>\n",
       "      <td>0.0</td>\n",
       "      <td>0.0</td>\n",
       "      <td>0.0</td>\n",
       "      <td>Sierra Leone</td>\n",
       "    </tr>\n",
       "  </tbody>\n",
       "</table>\n",
       "<p>1538427 rows × 4 columns</p>\n",
       "</div>"
      ],
      "text/plain": [
       "         GHI  DNI  DHI       Country\n",
       "0        0.0  0.0  0.0         Benin\n",
       "1        0.0  0.0  0.0         Benin\n",
       "2        0.0  0.0  0.0         Benin\n",
       "3        0.0  0.0  0.0         Benin\n",
       "4        0.0  0.0  0.0         Benin\n",
       "...      ...  ...  ...           ...\n",
       "1538422  0.0  0.0  0.0  Sierra Leone\n",
       "1538423  0.0  0.0  0.0  Sierra Leone\n",
       "1538424  0.0  0.0  0.0  Sierra Leone\n",
       "1538425  0.0  0.0  0.0  Sierra Leone\n",
       "1538426  0.0  0.0  0.0  Sierra Leone\n",
       "\n",
       "[1538427 rows x 4 columns]"
      ]
     },
     "execution_count": 15,
     "metadata": {},
     "output_type": "execute_result"
    }
   ],
   "source": [
    "df"
   ]
  },
  {
   "cell_type": "code",
   "execution_count": 22,
   "id": "ca2993a0",
   "metadata": {},
   "outputs": [
    {
     "data": {
      "image/png": "[encoded data removed]",
      "text/plain": [
       "<Figure size 1000x500 with 3 Axes>"
      ]
     },
     "metadata": {},
     "output_type": "display_data"
    }
   ],
   "source": [
    "plt.figure(figsize=(10, 5))\n",
    "plt.subplot(2, 2, 1)\n",
    "sns.boxplot(y='GHI', data=df, hue='Country' )\n",
    "plt.title('Global Horizontal Irradiance')\n",
    "plt.subplot(2, 2, 2)\n",
    "sns.boxplot(y='DNI', data=df, hue='Country' )\n",
    "plt.subplot(2, 2, 3)\n",
    "sns.boxplot(y='DHI', data=df, hue='Country' )\n",
    "plt.tight_layout()\n",
    "plt.savefig('../figures/boxplot.png', dpi=300)\n",
    "plt.show()"
   ]
  },
  {
   "cell_type": "code",
   "execution_count": 27,
   "id": "d7009c39",
   "metadata": {},
   "outputs": [
    {
     "data": {
      "image/png": "[encoded data removed]",
      "text/plain": [
       "<Figure size 1500x500 with 3 Axes>"
      ]
     },
     "metadata": {},
     "output_type": "display_data"
    }
   ],
   "source": [
    "metrics = ['GHI', 'DNI', 'DHI']  # Replace with your metrics\n",
    "n_metrics = len(metrics)\n",
    "\n",
    "fig, axes = plt.subplots(1, n_metrics, figsize=(15, 5))\n",
    "\n",
    "for ax, metric in zip(axes, metrics):\n",
    "    sns.boxplot(data=df, y=metric, x='Country', hue='Country',\n",
    "                palette='Set2', ax=ax, legend=False)\n",
    "    ax.set_title('{metric} by Country')\n",
    "    ax.set_ylabel('')\n",
    "\n",
    "plt.tight_layout()\n",
    "plt.show()"
   ]
  },
  {
   "cell_type": "code",
   "execution_count": 30,
   "id": "871db60f",
   "metadata": {},
   "outputs": [
    {
     "data": {
      "text/html": [
       "<div>\n",
       "<style scoped>\n",
       "    .dataframe tbody tr th:only-of-type {\n",
       "        vertical-align: middle;\n",
       "    }\n",
       "\n",
       "    .dataframe tbody tr th {\n",
       "        vertical-align: top;\n",
       "    }\n",
       "\n",
       "    .dataframe thead tr th {\n",
       "        text-align: left;\n",
       "    }\n",
       "\n",
       "    .dataframe thead tr:last-of-type th {\n",
       "        text-align: right;\n",
       "    }\n",
       "</style>\n",
       "<table border=\"1\" class=\"dataframe\">\n",
       "  <thead>\n",
       "    <tr>\n",
       "      <th></th>\n",
       "      <th colspan=\"3\" halign=\"left\">GHI</th>\n",
       "      <th colspan=\"3\" halign=\"left\">DNI</th>\n",
       "      <th colspan=\"3\" halign=\"left\">DHI</th>\n",
       "    </tr>\n",
       "    <tr>\n",
       "      <th></th>\n",
       "      <th>mean</th>\n",
       "      <th>median</th>\n",
       "      <th>std</th>\n",
       "      <th>mean</th>\n",
       "      <th>median</th>\n",
       "      <th>std</th>\n",
       "      <th>mean</th>\n",
       "      <th>median</th>\n",
       "      <th>std</th>\n",
       "    </tr>\n",
       "    <tr>\n",
       "      <th>Country</th>\n",
       "      <th></th>\n",
       "      <th></th>\n",
       "      <th></th>\n",
       "      <th></th>\n",
       "      <th></th>\n",
       "      <th></th>\n",
       "      <th></th>\n",
       "      <th></th>\n",
       "      <th></th>\n",
       "    </tr>\n",
       "  </thead>\n",
       "  <tbody>\n",
       "    <tr>\n",
       "      <th>Benin</th>\n",
       "      <td>237.484571</td>\n",
       "      <td>0.6</td>\n",
       "      <td>327.168111</td>\n",
       "      <td>167.144091</td>\n",
       "      <td>0.0</td>\n",
       "      <td>261.940361</td>\n",
       "      <td>113.166760</td>\n",
       "      <td>0.4</td>\n",
       "      <td>151.660240</td>\n",
       "    </tr>\n",
       "    <tr>\n",
       "      <th>Sierra Leone</th>\n",
       "      <td>183.226496</td>\n",
       "      <td>0.0</td>\n",
       "      <td>274.251477</td>\n",
       "      <td>100.756509</td>\n",
       "      <td>0.0</td>\n",
       "      <td>197.670532</td>\n",
       "      <td>109.313564</td>\n",
       "      <td>0.0</td>\n",
       "      <td>151.422763</td>\n",
       "    </tr>\n",
       "    <tr>\n",
       "      <th>Togo</th>\n",
       "      <td>225.028731</td>\n",
       "      <td>0.5</td>\n",
       "      <td>316.449213</td>\n",
       "      <td>147.968936</td>\n",
       "      <td>0.0</td>\n",
       "      <td>247.676535</td>\n",
       "      <td>112.777219</td>\n",
       "      <td>1.5</td>\n",
       "      <td>151.567919</td>\n",
       "    </tr>\n",
       "  </tbody>\n",
       "</table>\n",
       "</div>"
      ],
      "text/plain": [
       "                     GHI                            DNI                     \\\n",
       "                    mean median         std        mean median         std   \n",
       "Country                                                                      \n",
       "Benin         237.484571    0.6  327.168111  167.144091    0.0  261.940361   \n",
       "Sierra Leone  183.226496    0.0  274.251477  100.756509    0.0  197.670532   \n",
       "Togo          225.028731    0.5  316.449213  147.968936    0.0  247.676535   \n",
       "\n",
       "                     DHI                     \n",
       "                    mean median         std  \n",
       "Country                                      \n",
       "Benin         113.166760    0.4  151.660240  \n",
       "Sierra Leone  109.313564    0.0  151.422763  \n",
       "Togo          112.777219    1.5  151.567919  "
      ]
     },
     "execution_count": 30,
     "metadata": {},
     "output_type": "execute_result"
    }
   ],
   "source": [
    "metric_summary =df.groupby('Country')[metrics].agg(\n",
    "    ['mean', 'median','std']\n",
    ")\n",
    "metric_summary"
   ]
  },
  {
   "cell_type": "code",
   "execution_count": null,
   "id": "049538bd",
   "metadata": {},
   "outputs": [],
   "source": []
  },
  {
   "cell_type": "code",
   "execution_count": 37,
   "id": "83ef2a2c",
   "metadata": {},
   "outputs": [
    {
     "data": {
      "image/png": "[encoded data removed]",
      "text/plain": [
       "<Figure size 800x400 with 1 Axes>"
      ]
     },
     "metadata": {},
     "output_type": "display_data"
    }
   ],
   "source": [
    "average_GHI = df.groupby('Country')['GHI'].mean().sort_values(ascending=False)\n",
    "plt.figure(figsize=(8, 4))\n",
    "plt.bar(average_GHI.index, average_GHI.values)\n",
    "plt.title('Average GHI (W/m²) by Country')\n",
    "plt.xlabel('Country')\n",
    "plt.ylabel('Average GHI')\n",
    "plt.savefig('../figures/average_GHI.png', dpi=300)\n",
    "plt.show()"
   ]
  },
  {
   "cell_type": "code",
   "execution_count": 42,
   "id": "3f81238c",
   "metadata": {},
   "outputs": [
    {
     "name": "stdout",
     "output_type": "stream",
     "text": [
      "p-value: 0.0\n",
      "Significant differences found.\n"
     ]
    }
   ],
   "source": [
    "ghi_benin = benin['GHI']\n",
    "ghi_togo = togo['GHI']\n",
    "ghi_ser = ser['GHI']\n",
    "# Perform ANOVA\n",
    "p_value = f_oneway(ghi_benin, ghi_togo, ghi_ser).pvalue\n",
    "print(f\"p-value: {p_value}\")\n",
    "# Perform post-hoc test if ANOVA is significant\n",
    "if p_value < 0.05:\n",
    "    print(\"Significant differences found.\")\n",
    "else:\n",
    "    print(\"No significant differences found.\")"
   ]
  },
  {
   "cell_type": "markdown",
   "id": "a7c9ca03",
   "metadata": {},
   "source": [
    "### Key Observations\n",
    "\n",
    "- **Benin** exhibits the highest **average and median GHI**, making it a promising candidate for solar projects.\n",
    "- **Togo** shows relatively **low variability in GHI**, which could mean more stable solar yield.\n",
    "- **Sierra Leone** has **lower mean GHI** but a **higher spread**, indicating inconsistency in solar potential across locations or times.\n"
   ]
  },
  {
   "cell_type": "markdown",
   "id": "9e681f33",
   "metadata": {},
   "source": []
  }
 ],
 "metadata": {
  "kernelspec": {
   "display_name": ".venv",
   "language": "python",
   "name": "python3"
  },
  "language_info": {
   "codemirror_mode": {
    "name": "ipython",
    "version": 3
   },
   "file_extension": ".py",
   "mimetype": "text/x-python",
   "name": "python",
   "nbconvert_exporter": "python",
   "pygments_lexer": "ipython3",
   "version": "3.12.3"
  }
 },
 "nbformat": 4,
 "nbformat_minor": 5
}
